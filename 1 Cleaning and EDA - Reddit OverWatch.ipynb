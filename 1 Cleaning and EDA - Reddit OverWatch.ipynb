{
 "cells": [
  {
   "cell_type": "markdown",
   "metadata": {},
   "source": [
    "# Reddit OverWatch - Data collection using Reddit API and Data Cleaning"
   ]
  },
  {
   "cell_type": "markdown",
   "metadata": {},
   "source": [
    "# Problem Statement"
   ]
  },
  {
   "cell_type": "markdown",
   "metadata": {},
   "source": [
    "Problem undertaken to solve is that intentional/unintentional miss categorisation of Reddit users posts with suicide tendencies going unnoticed under **Depression** subreddit category. Its a classification problem. A classification model is needed that predicts the proper category of the post a user written/writing  actually belongs to **Depression** subreddit or **SuicideWatch** subreddit. Accuracy to classify **SuicideWatch** category is important but misclassification of **Depression** is a real concern.  \n",
    "\n",
    "**Links**  \n",
    "[r/depression](https://www.reddit.com/r/depression/)  \n",
    "[r/SuicideWatch](https://www.reddit.com/r/SuicideWatch/)"
   ]
  },
  {
   "cell_type": "markdown",
   "metadata": {},
   "source": [
    "# Evaluation"
   ]
  },
  {
   "cell_type": "markdown",
   "metadata": {},
   "source": [
    "Models are evaluated by Classification Accuracy score\n",
    "\n",
    "$$\\text{Classification Accuracy score}={\\frac{True Positive + True Negative}{True Positive + True Negative + False Positive + False Negative}}$$"
   ]
  },
  {
   "cell_type": "markdown",
   "metadata": {},
   "source": [
    "# Scope\n",
    "\n",
    "- Using Reddit's API, collect posts from two subreddits of your choosing.\n",
    "- Use NLP to train a classifier on which subreddit a given post came from. \n",
    "- This is a binary classification problem."
   ]
  },
  {
   "cell_type": "markdown",
   "metadata": {},
   "source": [
    "## Requirements\n",
    "- Gather and prepare your data using the requests library.\n",
    "- Create and compare two models.\n",
    "- One of these must be a Bayes classifier, however the other can be a classifier of your choosing: logistic regression, KNN, SVM, etc.\n",
    "- A Jupyter Notebook with your analysis for a peer audience of data scientists.\n",
    "- An executive summary of the results you found.\n",
    "- A short presentation outlining your process and findings for a semi-technical audience."
   ]
  },
  {
   "cell_type": "markdown",
   "metadata": {},
   "source": [
    "## Project Deliverables\n",
    "\n",
    "- A README.md (that isn't this file)\n",
    "- Jupyter notebook(s) with your analysis and models\n",
    "- Data files\n",
    "- Presentation slides\n",
    "- Any other necessary files (images, etc.)"
   ]
  },
  {
   "cell_type": "markdown",
   "metadata": {},
   "source": [
    "## Data Dictionary\n",
    "\n",
    "|Dataframes:| comp1_df, comp2_df, final_df|\n",
    "|---|---|\n",
    "\n",
    "|Feature|Type|Description|\n",
    "|---|---|---|\n",
    "|name|object|post index|\n",
    "|author|object|post author id|\n",
    "|title|object|title of the post|\n",
    "|selftext|object|actual body of the post|\n",
    "|subreddit|int64|parent subedit post belongs to|\n"
   ]
  },
  {
   "cell_type": "markdown",
   "metadata": {},
   "source": [
    "## Import libraries"
   ]
  },
  {
   "cell_type": "code",
   "execution_count": 1,
   "metadata": {},
   "outputs": [],
   "source": [
    "import requests as requests\n",
    "import pandas as pd\n",
    "import numpy as np\n",
    "import seaborn as sns\n",
    "import matplotlib.pyplot as plt\n",
    "import time\n",
    "import regex as re\n",
    "from nltk.corpus import stopwords\n",
    "from bs4 import BeautifulSoup\n",
    "%matplotlib inline"
   ]
  },
  {
   "cell_type": "markdown",
   "metadata": {},
   "source": [
    "## Data collection using Reddit API"
   ]
  },
  {
   "cell_type": "code",
   "execution_count": 2,
   "metadata": {},
   "outputs": [],
   "source": [
    "#Function to request data from reddit API\n",
    "def Get_posts(url):\n",
    "    posts=[]\n",
    "    headers={'User-agent':'GA SG DSI10'}\n",
    "    after=None #None after param\n",
    "\n",
    "    for i in range(40): #loop 40 times to receive 25 posts in every loop\n",
    "        if i % 10 == 0: \n",
    "            print('Starting loop ',i+1) #print status for every *10 loop\n",
    "        if after == None: #param set to none for the first request\n",
    "            param={} \n",
    "        else:\n",
    "            param={'after':after} #param set to after to 2nd request onwards\n",
    "        \n",
    "        res = requests.get(url,params=param,headers=headers)\n",
    "        if res.status_code==200: #if status 200 normal,proceed\n",
    "            raw=res.json()\n",
    "            posts.extend(raw['data']['children']) \n",
    "            after=raw['data']['after']  \n",
    "        else:\n",
    "            print('Error code ',results.status_code)\n",
    "            break\n",
    "        time.sleep(1) #seconds to sleep\n",
    "    print('Done')\n",
    "    print('Number of posts received: ',len(posts)) #print lenth of posts\n",
    "    return posts\n",
    "    "
   ]
  },
  {
   "cell_type": "markdown",
   "metadata": {},
   "source": [
    "### Get posts from Depression subredit\n"
   ]
  },
  {
   "cell_type": "code",
   "execution_count": 3,
   "metadata": {},
   "outputs": [
    {
     "name": "stdout",
     "output_type": "stream",
     "text": [
      "Starting loop  1\n",
      "Starting loop  11\n",
      "Starting loop  21\n",
      "Starting loop  31\n",
      "Done\n",
      "Number of posts received:  1000\n"
     ]
    }
   ],
   "source": [
    "comp1=Get_posts('https://www.reddit.com/r/depression/new.json')"
   ]
  },
  {
   "cell_type": "markdown",
   "metadata": {},
   "source": [
    "### Get posts from SuicideWatch subredit\n"
   ]
  },
  {
   "cell_type": "code",
   "execution_count": 4,
   "metadata": {},
   "outputs": [
    {
     "name": "stdout",
     "output_type": "stream",
     "text": [
      "Starting loop  1\n",
      "Starting loop  11\n",
      "Starting loop  21\n",
      "Starting loop  31\n",
      "Done\n",
      "Number of posts received:  1000\n"
     ]
    }
   ],
   "source": [
    "comp2=Get_posts('https://www.reddit.com/r/SuicideWatch/new.json')"
   ]
  },
  {
   "cell_type": "code",
   "execution_count": 5,
   "metadata": {},
   "outputs": [
    {
     "name": "stdout",
     "output_type": "stream",
     "text": [
      "fiction tyep: <class 'list'>\n",
      "real tyep: <class 'list'>\n"
     ]
    }
   ],
   "source": [
    "#Check class\n",
    "print('fiction tyep:',type(comp1))\n",
    "print('real tyep:',type(comp2))"
   ]
  },
  {
   "cell_type": "code",
   "execution_count": 6,
   "metadata": {},
   "outputs": [
    {
     "data": {
      "text/plain": [
       "dict_keys(['approved_at_utc', 'subreddit', 'selftext', 'author_fullname', 'saved', 'mod_reason_title', 'gilded', 'clicked', 'title', 'link_flair_richtext', 'subreddit_name_prefixed', 'hidden', 'pwls', 'link_flair_css_class', 'downs', 'hide_score', 'name', 'quarantine', 'link_flair_text_color', 'author_flair_background_color', 'subreddit_type', 'ups', 'total_awards_received', 'media_embed', 'author_flair_template_id', 'is_original_content', 'user_reports', 'secure_media', 'is_reddit_media_domain', 'is_meta', 'category', 'secure_media_embed', 'link_flair_text', 'can_mod_post', 'score', 'approved_by', 'thumbnail', 'edited', 'author_flair_css_class', 'steward_reports', 'author_flair_richtext', 'gildings', 'content_categories', 'is_self', 'mod_note', 'created', 'link_flair_type', 'wls', 'banned_by', 'author_flair_type', 'domain', 'allow_live_comments', 'selftext_html', 'likes', 'suggested_sort', 'banned_at_utc', 'view_count', 'archived', 'no_follow', 'is_crosspostable', 'pinned', 'over_18', 'all_awardings', 'awarders', 'media_only', 'can_gild', 'spoiler', 'locked', 'author_flair_text', 'visited', 'num_reports', 'distinguished', 'subreddit_id', 'mod_reason_by', 'removal_reason', 'link_flair_background_color', 'id', 'is_robot_indexable', 'report_reasons', 'author', 'discussion_type', 'media', 'send_replies', 'whitelist_status', 'contest_mode', 'mod_reports', 'author_patreon_flair', 'author_flair_text_color', 'permalink', 'parent_whitelist_status', 'stickied', 'url', 'subreddit_subscribers', 'created_utc', 'num_crossposts', 'num_comments', 'is_video'])"
      ]
     },
     "execution_count": 6,
     "metadata": {},
     "output_type": "execute_result"
    }
   ],
   "source": [
    "#check 1st entry\n",
    "comp1[0]['data'].keys() "
   ]
  },
  {
   "cell_type": "code",
   "execution_count": 7,
   "metadata": {},
   "outputs": [
    {
     "data": {
      "text/plain": [
       "dict_keys(['approved_at_utc', 'subreddit', 'selftext', 'author_fullname', 'saved', 'mod_reason_title', 'gilded', 'clicked', 'title', 'link_flair_richtext', 'subreddit_name_prefixed', 'hidden', 'pwls', 'link_flair_css_class', 'downs', 'hide_score', 'name', 'quarantine', 'link_flair_text_color', 'author_flair_background_color', 'subreddit_type', 'ups', 'total_awards_received', 'media_embed', 'author_flair_template_id', 'is_original_content', 'user_reports', 'secure_media', 'is_reddit_media_domain', 'is_meta', 'category', 'secure_media_embed', 'link_flair_text', 'can_mod_post', 'score', 'approved_by', 'thumbnail', 'edited', 'author_flair_css_class', 'steward_reports', 'author_flair_richtext', 'gildings', 'content_categories', 'is_self', 'mod_note', 'created', 'link_flair_type', 'wls', 'banned_by', 'author_flair_type', 'domain', 'allow_live_comments', 'selftext_html', 'likes', 'suggested_sort', 'banned_at_utc', 'view_count', 'archived', 'no_follow', 'is_crosspostable', 'pinned', 'over_18', 'all_awardings', 'awarders', 'media_only', 'can_gild', 'spoiler', 'locked', 'author_flair_text', 'visited', 'num_reports', 'distinguished', 'subreddit_id', 'mod_reason_by', 'removal_reason', 'link_flair_background_color', 'id', 'is_robot_indexable', 'report_reasons', 'author', 'discussion_type', 'media', 'send_replies', 'whitelist_status', 'contest_mode', 'mod_reports', 'author_patreon_flair', 'author_flair_text_color', 'permalink', 'parent_whitelist_status', 'stickied', 'url', 'subreddit_subscribers', 'created_utc', 'num_crossposts', 'num_comments', 'is_video'])"
      ]
     },
     "execution_count": 7,
     "metadata": {},
     "output_type": "execute_result"
    }
   ],
   "source": [
    "#check 1st entry\n",
    "comp2[0]['data'].keys()"
   ]
  },
  {
   "cell_type": "code",
   "execution_count": 8,
   "metadata": {},
   "outputs": [],
   "source": [
    "#Convert Depression posts to data frame\n",
    "comp1_df = pd.DataFrame([i['data'] for i in comp1]) #convert to dataframe"
   ]
  },
  {
   "cell_type": "code",
   "execution_count": 9,
   "metadata": {},
   "outputs": [],
   "source": [
    "#Convert SuicideWatch posts to data frame\n",
    "comp2_df = pd.DataFrame([x['data'] for x in comp2]) #convert to dataframe"
   ]
  },
  {
   "cell_type": "code",
   "execution_count": 10,
   "metadata": {},
   "outputs": [
    {
     "data": {
      "text/html": [
       "<div>\n",
       "<style scoped>\n",
       "    .dataframe tbody tr th:only-of-type {\n",
       "        vertical-align: middle;\n",
       "    }\n",
       "\n",
       "    .dataframe tbody tr th {\n",
       "        vertical-align: top;\n",
       "    }\n",
       "\n",
       "    .dataframe thead th {\n",
       "        text-align: right;\n",
       "    }\n",
       "</style>\n",
       "<table border=\"1\" class=\"dataframe\">\n",
       "  <thead>\n",
       "    <tr style=\"text-align: right;\">\n",
       "      <th></th>\n",
       "      <th>all_awardings</th>\n",
       "      <th>allow_live_comments</th>\n",
       "      <th>approved_at_utc</th>\n",
       "      <th>approved_by</th>\n",
       "      <th>archived</th>\n",
       "      <th>author</th>\n",
       "      <th>author_flair_background_color</th>\n",
       "      <th>author_flair_css_class</th>\n",
       "      <th>author_flair_richtext</th>\n",
       "      <th>author_flair_template_id</th>\n",
       "      <th>...</th>\n",
       "      <th>thumbnail</th>\n",
       "      <th>title</th>\n",
       "      <th>total_awards_received</th>\n",
       "      <th>ups</th>\n",
       "      <th>url</th>\n",
       "      <th>user_reports</th>\n",
       "      <th>view_count</th>\n",
       "      <th>visited</th>\n",
       "      <th>whitelist_status</th>\n",
       "      <th>wls</th>\n",
       "    </tr>\n",
       "  </thead>\n",
       "  <tbody>\n",
       "    <tr>\n",
       "      <th>0</th>\n",
       "      <td>[]</td>\n",
       "      <td>False</td>\n",
       "      <td>None</td>\n",
       "      <td>None</td>\n",
       "      <td>False</td>\n",
       "      <td>Kostas235</td>\n",
       "      <td>None</td>\n",
       "      <td>None</td>\n",
       "      <td>[]</td>\n",
       "      <td>None</td>\n",
       "      <td>...</td>\n",
       "      <td></td>\n",
       "      <td>Why am I like this</td>\n",
       "      <td>0</td>\n",
       "      <td>2</td>\n",
       "      <td>https://www.reddit.com/r/depression/comments/d...</td>\n",
       "      <td>[]</td>\n",
       "      <td>None</td>\n",
       "      <td>False</td>\n",
       "      <td>no_ads</td>\n",
       "      <td>0.0</td>\n",
       "    </tr>\n",
       "    <tr>\n",
       "      <th>1</th>\n",
       "      <td>[]</td>\n",
       "      <td>False</td>\n",
       "      <td>None</td>\n",
       "      <td>None</td>\n",
       "      <td>False</td>\n",
       "      <td>Amxela</td>\n",
       "      <td>None</td>\n",
       "      <td>None</td>\n",
       "      <td>[]</td>\n",
       "      <td>None</td>\n",
       "      <td>...</td>\n",
       "      <td></td>\n",
       "      <td>I’ve started writing down my depressed thought...</td>\n",
       "      <td>0</td>\n",
       "      <td>3</td>\n",
       "      <td>https://www.reddit.com/r/depression/comments/d...</td>\n",
       "      <td>[]</td>\n",
       "      <td>None</td>\n",
       "      <td>False</td>\n",
       "      <td>no_ads</td>\n",
       "      <td>0.0</td>\n",
       "    </tr>\n",
       "    <tr>\n",
       "      <th>2</th>\n",
       "      <td>[]</td>\n",
       "      <td>False</td>\n",
       "      <td>None</td>\n",
       "      <td>None</td>\n",
       "      <td>False</td>\n",
       "      <td>cwatson1060</td>\n",
       "      <td>None</td>\n",
       "      <td>None</td>\n",
       "      <td>[]</td>\n",
       "      <td>None</td>\n",
       "      <td>...</td>\n",
       "      <td></td>\n",
       "      <td>How do I know I was truly laughing?</td>\n",
       "      <td>0</td>\n",
       "      <td>2</td>\n",
       "      <td>https://www.reddit.com/r/depression/comments/d...</td>\n",
       "      <td>[]</td>\n",
       "      <td>None</td>\n",
       "      <td>False</td>\n",
       "      <td>no_ads</td>\n",
       "      <td>0.0</td>\n",
       "    </tr>\n",
       "    <tr>\n",
       "      <th>3</th>\n",
       "      <td>[]</td>\n",
       "      <td>False</td>\n",
       "      <td>None</td>\n",
       "      <td>None</td>\n",
       "      <td>False</td>\n",
       "      <td>Gregorvitch</td>\n",
       "      <td>None</td>\n",
       "      <td>None</td>\n",
       "      <td>[]</td>\n",
       "      <td>None</td>\n",
       "      <td>...</td>\n",
       "      <td></td>\n",
       "      <td>A rant about Imposter syndrome.</td>\n",
       "      <td>0</td>\n",
       "      <td>2</td>\n",
       "      <td>https://www.reddit.com/r/depression/comments/d...</td>\n",
       "      <td>[]</td>\n",
       "      <td>None</td>\n",
       "      <td>False</td>\n",
       "      <td>no_ads</td>\n",
       "      <td>0.0</td>\n",
       "    </tr>\n",
       "    <tr>\n",
       "      <th>4</th>\n",
       "      <td>[]</td>\n",
       "      <td>False</td>\n",
       "      <td>None</td>\n",
       "      <td>None</td>\n",
       "      <td>False</td>\n",
       "      <td>Asmodeuss1990</td>\n",
       "      <td>None</td>\n",
       "      <td>None</td>\n",
       "      <td>[]</td>\n",
       "      <td>None</td>\n",
       "      <td>...</td>\n",
       "      <td></td>\n",
       "      <td>Its 3 am and I can't fucking sleep.</td>\n",
       "      <td>0</td>\n",
       "      <td>3</td>\n",
       "      <td>https://www.reddit.com/r/depression/comments/d...</td>\n",
       "      <td>[]</td>\n",
       "      <td>None</td>\n",
       "      <td>False</td>\n",
       "      <td>no_ads</td>\n",
       "      <td>0.0</td>\n",
       "    </tr>\n",
       "  </tbody>\n",
       "</table>\n",
       "<p>5 rows × 97 columns</p>\n",
       "</div>"
      ],
      "text/plain": [
       "  all_awardings  allow_live_comments approved_at_utc approved_by  archived  \\\n",
       "0            []                False            None        None     False   \n",
       "1            []                False            None        None     False   \n",
       "2            []                False            None        None     False   \n",
       "3            []                False            None        None     False   \n",
       "4            []                False            None        None     False   \n",
       "\n",
       "          author author_flair_background_color author_flair_css_class  \\\n",
       "0      Kostas235                          None                   None   \n",
       "1         Amxela                          None                   None   \n",
       "2    cwatson1060                          None                   None   \n",
       "3    Gregorvitch                          None                   None   \n",
       "4  Asmodeuss1990                          None                   None   \n",
       "\n",
       "  author_flair_richtext author_flair_template_id  ... thumbnail  \\\n",
       "0                    []                     None  ...             \n",
       "1                    []                     None  ...             \n",
       "2                    []                     None  ...             \n",
       "3                    []                     None  ...             \n",
       "4                    []                     None  ...             \n",
       "\n",
       "                                               title total_awards_received  \\\n",
       "0                                 Why am I like this                     0   \n",
       "1  I’ve started writing down my depressed thought...                     0   \n",
       "2                How do I know I was truly laughing?                     0   \n",
       "3                    A rant about Imposter syndrome.                     0   \n",
       "4                Its 3 am and I can't fucking sleep.                     0   \n",
       "\n",
       "  ups                                                url user_reports  \\\n",
       "0   2  https://www.reddit.com/r/depression/comments/d...           []   \n",
       "1   3  https://www.reddit.com/r/depression/comments/d...           []   \n",
       "2   2  https://www.reddit.com/r/depression/comments/d...           []   \n",
       "3   2  https://www.reddit.com/r/depression/comments/d...           []   \n",
       "4   3  https://www.reddit.com/r/depression/comments/d...           []   \n",
       "\n",
       "  view_count visited  whitelist_status  wls  \n",
       "0       None   False            no_ads  0.0  \n",
       "1       None   False            no_ads  0.0  \n",
       "2       None   False            no_ads  0.0  \n",
       "3       None   False            no_ads  0.0  \n",
       "4       None   False            no_ads  0.0  \n",
       "\n",
       "[5 rows x 97 columns]"
      ]
     },
     "execution_count": 10,
     "metadata": {},
     "output_type": "execute_result"
    }
   ],
   "source": [
    "#inspect df\n",
    "comp1_df.head()"
   ]
  },
  {
   "cell_type": "code",
   "execution_count": 11,
   "metadata": {},
   "outputs": [
    {
     "data": {
      "text/html": [
       "<div>\n",
       "<style scoped>\n",
       "    .dataframe tbody tr th:only-of-type {\n",
       "        vertical-align: middle;\n",
       "    }\n",
       "\n",
       "    .dataframe tbody tr th {\n",
       "        vertical-align: top;\n",
       "    }\n",
       "\n",
       "    .dataframe thead th {\n",
       "        text-align: right;\n",
       "    }\n",
       "</style>\n",
       "<table border=\"1\" class=\"dataframe\">\n",
       "  <thead>\n",
       "    <tr style=\"text-align: right;\">\n",
       "      <th></th>\n",
       "      <th>all_awardings</th>\n",
       "      <th>allow_live_comments</th>\n",
       "      <th>approved_at_utc</th>\n",
       "      <th>approved_by</th>\n",
       "      <th>archived</th>\n",
       "      <th>author</th>\n",
       "      <th>author_cakeday</th>\n",
       "      <th>author_flair_background_color</th>\n",
       "      <th>author_flair_css_class</th>\n",
       "      <th>author_flair_richtext</th>\n",
       "      <th>...</th>\n",
       "      <th>thumbnail</th>\n",
       "      <th>title</th>\n",
       "      <th>total_awards_received</th>\n",
       "      <th>ups</th>\n",
       "      <th>url</th>\n",
       "      <th>user_reports</th>\n",
       "      <th>view_count</th>\n",
       "      <th>visited</th>\n",
       "      <th>whitelist_status</th>\n",
       "      <th>wls</th>\n",
       "    </tr>\n",
       "  </thead>\n",
       "  <tbody>\n",
       "    <tr>\n",
       "      <th>0</th>\n",
       "      <td>[]</td>\n",
       "      <td>False</td>\n",
       "      <td>None</td>\n",
       "      <td>None</td>\n",
       "      <td>False</td>\n",
       "      <td>akskdqieirkff</td>\n",
       "      <td>NaN</td>\n",
       "      <td></td>\n",
       "      <td>modmsg</td>\n",
       "      <td>[]</td>\n",
       "      <td>...</td>\n",
       "      <td></td>\n",
       "      <td>want to die for no reason</td>\n",
       "      <td>0</td>\n",
       "      <td>1</td>\n",
       "      <td>https://www.reddit.com/r/SuicideWatch/comments...</td>\n",
       "      <td>[]</td>\n",
       "      <td>None</td>\n",
       "      <td>False</td>\n",
       "      <td>no_ads</td>\n",
       "      <td>0</td>\n",
       "    </tr>\n",
       "    <tr>\n",
       "      <th>1</th>\n",
       "      <td>[]</td>\n",
       "      <td>False</td>\n",
       "      <td>None</td>\n",
       "      <td>None</td>\n",
       "      <td>False</td>\n",
       "      <td>B055ANOVA</td>\n",
       "      <td>NaN</td>\n",
       "      <td></td>\n",
       "      <td>modmsg</td>\n",
       "      <td>[]</td>\n",
       "      <td>...</td>\n",
       "      <td></td>\n",
       "      <td>Dogs are great</td>\n",
       "      <td>0</td>\n",
       "      <td>3</td>\n",
       "      <td>https://www.reddit.com/r/SuicideWatch/comments...</td>\n",
       "      <td>[]</td>\n",
       "      <td>None</td>\n",
       "      <td>False</td>\n",
       "      <td>no_ads</td>\n",
       "      <td>0</td>\n",
       "    </tr>\n",
       "    <tr>\n",
       "      <th>2</th>\n",
       "      <td>[]</td>\n",
       "      <td>False</td>\n",
       "      <td>None</td>\n",
       "      <td>None</td>\n",
       "      <td>False</td>\n",
       "      <td>kirelred</td>\n",
       "      <td>NaN</td>\n",
       "      <td>None</td>\n",
       "      <td>None</td>\n",
       "      <td>[]</td>\n",
       "      <td>...</td>\n",
       "      <td></td>\n",
       "      <td>I just need things to stop.</td>\n",
       "      <td>0</td>\n",
       "      <td>1</td>\n",
       "      <td>https://www.reddit.com/r/SuicideWatch/comments...</td>\n",
       "      <td>[]</td>\n",
       "      <td>None</td>\n",
       "      <td>False</td>\n",
       "      <td>no_ads</td>\n",
       "      <td>0</td>\n",
       "    </tr>\n",
       "    <tr>\n",
       "      <th>3</th>\n",
       "      <td>[]</td>\n",
       "      <td>False</td>\n",
       "      <td>None</td>\n",
       "      <td>None</td>\n",
       "      <td>False</td>\n",
       "      <td>Shamad00</td>\n",
       "      <td>NaN</td>\n",
       "      <td>None</td>\n",
       "      <td>None</td>\n",
       "      <td>[]</td>\n",
       "      <td>...</td>\n",
       "      <td></td>\n",
       "      <td>it's just difficult</td>\n",
       "      <td>0</td>\n",
       "      <td>1</td>\n",
       "      <td>https://www.reddit.com/r/SuicideWatch/comments...</td>\n",
       "      <td>[]</td>\n",
       "      <td>None</td>\n",
       "      <td>False</td>\n",
       "      <td>no_ads</td>\n",
       "      <td>0</td>\n",
       "    </tr>\n",
       "    <tr>\n",
       "      <th>4</th>\n",
       "      <td>[]</td>\n",
       "      <td>False</td>\n",
       "      <td>None</td>\n",
       "      <td>None</td>\n",
       "      <td>False</td>\n",
       "      <td>JMovilla</td>\n",
       "      <td>NaN</td>\n",
       "      <td></td>\n",
       "      <td>modmsg</td>\n",
       "      <td>[]</td>\n",
       "      <td>...</td>\n",
       "      <td></td>\n",
       "      <td>Guidance</td>\n",
       "      <td>0</td>\n",
       "      <td>2</td>\n",
       "      <td>https://www.reddit.com/r/SuicideWatch/comments...</td>\n",
       "      <td>[]</td>\n",
       "      <td>None</td>\n",
       "      <td>False</td>\n",
       "      <td>no_ads</td>\n",
       "      <td>0</td>\n",
       "    </tr>\n",
       "  </tbody>\n",
       "</table>\n",
       "<p>5 rows × 98 columns</p>\n",
       "</div>"
      ],
      "text/plain": [
       "  all_awardings  allow_live_comments approved_at_utc approved_by  archived  \\\n",
       "0            []                False            None        None     False   \n",
       "1            []                False            None        None     False   \n",
       "2            []                False            None        None     False   \n",
       "3            []                False            None        None     False   \n",
       "4            []                False            None        None     False   \n",
       "\n",
       "          author author_cakeday author_flair_background_color  \\\n",
       "0  akskdqieirkff            NaN                                 \n",
       "1      B055ANOVA            NaN                                 \n",
       "2       kirelred            NaN                          None   \n",
       "3       Shamad00            NaN                          None   \n",
       "4       JMovilla            NaN                                 \n",
       "\n",
       "  author_flair_css_class author_flair_richtext  ... thumbnail  \\\n",
       "0                 modmsg                    []  ...             \n",
       "1                 modmsg                    []  ...             \n",
       "2                   None                    []  ...             \n",
       "3                   None                    []  ...             \n",
       "4                 modmsg                    []  ...             \n",
       "\n",
       "                         title total_awards_received ups  \\\n",
       "0    want to die for no reason                     0   1   \n",
       "1               Dogs are great                     0   3   \n",
       "2  I just need things to stop.                     0   1   \n",
       "3          it's just difficult                     0   1   \n",
       "4                     Guidance                     0   2   \n",
       "\n",
       "                                                 url user_reports view_count  \\\n",
       "0  https://www.reddit.com/r/SuicideWatch/comments...           []       None   \n",
       "1  https://www.reddit.com/r/SuicideWatch/comments...           []       None   \n",
       "2  https://www.reddit.com/r/SuicideWatch/comments...           []       None   \n",
       "3  https://www.reddit.com/r/SuicideWatch/comments...           []       None   \n",
       "4  https://www.reddit.com/r/SuicideWatch/comments...           []       None   \n",
       "\n",
       "  visited whitelist_status  wls  \n",
       "0   False           no_ads    0  \n",
       "1   False           no_ads    0  \n",
       "2   False           no_ads    0  \n",
       "3   False           no_ads    0  \n",
       "4   False           no_ads    0  \n",
       "\n",
       "[5 rows x 98 columns]"
      ]
     },
     "execution_count": 11,
     "metadata": {},
     "output_type": "execute_result"
    }
   ],
   "source": [
    "#inspect df\n",
    "comp2_df.head()"
   ]
  },
  {
   "cell_type": "markdown",
   "metadata": {},
   "source": [
    "#### Backup posts to CSV files"
   ]
  },
  {
   "cell_type": "code",
   "execution_count": 12,
   "metadata": {},
   "outputs": [],
   "source": [
    "comp1_df.to_csv('depression_posts.csv',index=False)\n",
    "comp2_df.to_csv('suicidewatch_posts.csv',index=False)"
   ]
  },
  {
   "cell_type": "markdown",
   "metadata": {},
   "source": [
    "## Data Cleaning"
   ]
  },
  {
   "cell_type": "markdown",
   "metadata": {},
   "source": [
    "#### Drop duplicate posts based on the body of the post ('selftext')"
   ]
  },
  {
   "cell_type": "code",
   "execution_count": 13,
   "metadata": {},
   "outputs": [],
   "source": [
    "#check and and remove duplicate posts and drop them\n",
    "comp1_df = comp1_df.drop_duplicates(subset='selftext', keep='first')"
   ]
  },
  {
   "cell_type": "code",
   "execution_count": 14,
   "metadata": {},
   "outputs": [
    {
     "data": {
      "text/plain": [
       "(995, 97)"
      ]
     },
     "execution_count": 14,
     "metadata": {},
     "output_type": "execute_result"
    }
   ],
   "source": [
    "#check remaining number of posts for Depression\n",
    "comp1_df.shape"
   ]
  },
  {
   "cell_type": "code",
   "execution_count": 15,
   "metadata": {},
   "outputs": [],
   "source": [
    "#check and and remove duplicate posts and drop them\n",
    "comp2_df = comp2_df.drop_duplicates(subset='selftext', keep='first')"
   ]
  },
  {
   "cell_type": "code",
   "execution_count": 16,
   "metadata": {},
   "outputs": [
    {
     "data": {
      "text/plain": [
       "(961, 98)"
      ]
     },
     "execution_count": 16,
     "metadata": {},
     "output_type": "execute_result"
    }
   ],
   "source": [
    "#check remaining number of posts for SuicideWatch\n",
    "comp2_df.shape"
   ]
  },
  {
   "cell_type": "markdown",
   "metadata": {},
   "source": [
    "### Selecting only interested features.\n"
   ]
  },
  {
   "cell_type": "code",
   "execution_count": 17,
   "metadata": {},
   "outputs": [
    {
     "data": {
      "text/plain": [
       "Index(['all_awardings', 'allow_live_comments', 'approved_at_utc',\n",
       "       'approved_by', 'archived', 'author', 'author_flair_background_color',\n",
       "       'author_flair_css_class', 'author_flair_richtext',\n",
       "       'author_flair_template_id', 'author_flair_text',\n",
       "       'author_flair_text_color', 'author_flair_type', 'author_fullname',\n",
       "       'author_patreon_flair', 'awarders', 'banned_at_utc', 'banned_by',\n",
       "       'can_gild', 'can_mod_post', 'category', 'clicked', 'content_categories',\n",
       "       'contest_mode', 'created', 'created_utc', 'discussion_type',\n",
       "       'distinguished', 'domain', 'downs', 'edited', 'gilded', 'gildings',\n",
       "       'hidden', 'hide_score', 'id', 'is_crosspostable', 'is_meta',\n",
       "       'is_original_content', 'is_reddit_media_domain', 'is_robot_indexable',\n",
       "       'is_self', 'is_video', 'likes', 'link_flair_background_color',\n",
       "       'link_flair_css_class', 'link_flair_richtext', 'link_flair_text',\n",
       "       'link_flair_text_color', 'link_flair_type', 'locked', 'media',\n",
       "       'media_embed', 'media_only', 'mod_note', 'mod_reason_by',\n",
       "       'mod_reason_title', 'mod_reports', 'name', 'no_follow', 'num_comments',\n",
       "       'num_crossposts', 'num_reports', 'over_18', 'parent_whitelist_status',\n",
       "       'permalink', 'pinned', 'pwls', 'quarantine', 'removal_reason',\n",
       "       'report_reasons', 'saved', 'score', 'secure_media',\n",
       "       'secure_media_embed', 'selftext', 'selftext_html', 'send_replies',\n",
       "       'spoiler', 'steward_reports', 'stickied', 'subreddit', 'subreddit_id',\n",
       "       'subreddit_name_prefixed', 'subreddit_subscribers', 'subreddit_type',\n",
       "       'suggested_sort', 'thumbnail', 'title', 'total_awards_received', 'ups',\n",
       "       'url', 'user_reports', 'view_count', 'visited', 'whitelist_status',\n",
       "       'wls'],\n",
       "      dtype='object')"
      ]
     },
     "execution_count": 17,
     "metadata": {},
     "output_type": "execute_result"
    }
   ],
   "source": [
    "comp1_df.columns"
   ]
  },
  {
   "cell_type": "markdown",
   "metadata": {},
   "source": [
    "Only intrested in the 'title' 'selftext' 'subreddit' as features but for traceability purpose will be selecting 'name' and 'author' as well.\n",
    "\n",
    "**'name'**- post index\n",
    "\n",
    "**'author'**- post author id \n",
    "\n",
    "**'title'**- title of the post\n",
    "\n",
    "**'selftext'**- actual body of the post\n",
    "\n",
    "**'subreddit'**- parent subedit post belongs to"
   ]
  },
  {
   "cell_type": "code",
   "execution_count": 18,
   "metadata": {},
   "outputs": [],
   "source": [
    "comp1_df=comp1_df[['name','author','title','selftext','subreddit']] #select only 'name','title','selftext','subreddit' columns"
   ]
  },
  {
   "cell_type": "code",
   "execution_count": 19,
   "metadata": {},
   "outputs": [],
   "source": [
    "comp2_df=comp2_df[['name','author','title','selftext','subreddit']] #select only 'name','title','selftext','subreddit' columns"
   ]
  },
  {
   "cell_type": "code",
   "execution_count": 20,
   "metadata": {},
   "outputs": [
    {
     "name": "stdout",
     "output_type": "stream",
     "text": [
      "<class 'pandas.core.frame.DataFrame'>\n",
      "Int64Index: 995 entries, 0 to 999\n",
      "Data columns (total 5 columns):\n",
      "name         995 non-null object\n",
      "author       995 non-null object\n",
      "title        995 non-null object\n",
      "selftext     995 non-null object\n",
      "subreddit    995 non-null object\n",
      "dtypes: object(5)\n",
      "memory usage: 46.6+ KB\n"
     ]
    }
   ],
   "source": [
    "comp1_df.info()"
   ]
  },
  {
   "cell_type": "code",
   "execution_count": 21,
   "metadata": {},
   "outputs": [
    {
     "name": "stdout",
     "output_type": "stream",
     "text": [
      "<class 'pandas.core.frame.DataFrame'>\n",
      "Int64Index: 961 entries, 0 to 999\n",
      "Data columns (total 5 columns):\n",
      "name         961 non-null object\n",
      "author       961 non-null object\n",
      "title        961 non-null object\n",
      "selftext     961 non-null object\n",
      "subreddit    961 non-null object\n",
      "dtypes: object(5)\n",
      "memory usage: 45.0+ KB\n"
     ]
    }
   ],
   "source": [
    "comp2_df.info()"
   ]
  },
  {
   "cell_type": "markdown",
   "metadata": {},
   "source": [
    "#### Check for null values"
   ]
  },
  {
   "cell_type": "code",
   "execution_count": 23,
   "metadata": {},
   "outputs": [
    {
     "data": {
      "text/plain": [
       "name         0\n",
       "author       0\n",
       "title        0\n",
       "selftext     0\n",
       "subreddit    0\n",
       "dtype: int64"
      ]
     },
     "execution_count": 23,
     "metadata": {},
     "output_type": "execute_result"
    }
   ],
   "source": [
    "#check for null values\n",
    "comp1_df.isnull().sum() "
   ]
  },
  {
   "cell_type": "code",
   "execution_count": 24,
   "metadata": {},
   "outputs": [
    {
     "data": {
      "text/plain": [
       "name         0\n",
       "author       0\n",
       "title        0\n",
       "selftext     0\n",
       "subreddit    0\n",
       "dtype: int64"
      ]
     },
     "execution_count": 24,
     "metadata": {},
     "output_type": "execute_result"
    }
   ],
   "source": [
    "#check for null values\n",
    "comp2_df.isnull().sum()"
   ]
  },
  {
   "cell_type": "markdown",
   "metadata": {},
   "source": [
    "No null values found in any data frames"
   ]
  },
  {
   "cell_type": "markdown",
   "metadata": {},
   "source": [
    "#### Check for blank string entries"
   ]
  },
  {
   "cell_type": "code",
   "execution_count": 25,
   "metadata": {},
   "outputs": [],
   "source": [
    "#Function to check blank entries\n",
    "def Chk_blanks(df):\n",
    "    print((df[df.columns] == '').sum())"
   ]
  },
  {
   "cell_type": "code",
   "execution_count": 26,
   "metadata": {},
   "outputs": [
    {
     "name": "stdout",
     "output_type": "stream",
     "text": [
      "name         0\n",
      "author       0\n",
      "title        0\n",
      "selftext     1\n",
      "subreddit    0\n",
      "dtype: int64\n"
     ]
    }
   ],
   "source": [
    "Chk_blanks(comp1_df)"
   ]
  },
  {
   "cell_type": "markdown",
   "metadata": {},
   "source": [
    "Only one blank string entry found. Probably it was an image posted. Decided to drop the row since only 1."
   ]
  },
  {
   "cell_type": "code",
   "execution_count": 27,
   "metadata": {},
   "outputs": [
    {
     "name": "stdout",
     "output_type": "stream",
     "text": [
      "name         0\n",
      "author       0\n",
      "title        0\n",
      "selftext     1\n",
      "subreddit    0\n",
      "dtype: int64\n"
     ]
    }
   ],
   "source": [
    "Chk_blanks(comp2_df)"
   ]
  },
  {
   "cell_type": "markdown",
   "metadata": {},
   "source": [
    "Only one blank string entry found. Probably it was an image posted. Decided to drop the row since only 1."
   ]
  },
  {
   "cell_type": "code",
   "execution_count": 28,
   "metadata": {},
   "outputs": [
    {
     "name": "stdout",
     "output_type": "stream",
     "text": [
      "name         0\n",
      "author       0\n",
      "title        0\n",
      "selftext     0\n",
      "subreddit    0\n",
      "dtype: int64\n"
     ]
    }
   ],
   "source": [
    "#replace blank rows with NaN and remove\n",
    "comp1_df['selftext'].replace('', np.nan, inplace=True) #replace blanks with NaN\n",
    "comp1_df.dropna(inplace=True) #Drop NaN\n",
    "Chk_blanks(comp1_df)"
   ]
  },
  {
   "cell_type": "code",
   "execution_count": 29,
   "metadata": {},
   "outputs": [
    {
     "name": "stdout",
     "output_type": "stream",
     "text": [
      "name         0\n",
      "author       0\n",
      "title        0\n",
      "selftext     0\n",
      "subreddit    0\n",
      "dtype: int64\n"
     ]
    }
   ],
   "source": [
    "#replace blank rows with NaN and remove\n",
    "comp2_df['selftext'].replace('', np.nan, inplace=True) #replace blanks with NaN\n",
    "comp2_df.dropna(inplace=True) #Drop NaN\n",
    "Chk_blanks(comp2_df)"
   ]
  },
  {
   "cell_type": "markdown",
   "metadata": {},
   "source": [
    "#### To Balance the categories"
   ]
  },
  {
   "cell_type": "markdown",
   "metadata": {},
   "source": [
    "To balance the ratio of obervations for Depressed and SuicideWatch subreddits, decided to keep same number of rows for both the categories."
   ]
  },
  {
   "cell_type": "code",
   "execution_count": 30,
   "metadata": {},
   "outputs": [
    {
     "data": {
      "text/plain": [
       "(994, 5)"
      ]
     },
     "execution_count": 30,
     "metadata": {},
     "output_type": "execute_result"
    }
   ],
   "source": [
    "#check shape\n",
    "comp1_df.shape"
   ]
  },
  {
   "cell_type": "code",
   "execution_count": 31,
   "metadata": {},
   "outputs": [
    {
     "data": {
      "text/plain": [
       "(960, 5)"
      ]
     },
     "execution_count": 31,
     "metadata": {},
     "output_type": "execute_result"
    }
   ],
   "source": [
    "#check shape\n",
    "comp2_df.shape"
   ]
  },
  {
   "cell_type": "code",
   "execution_count": 32,
   "metadata": {},
   "outputs": [
    {
     "name": "stdout",
     "output_type": "stream",
     "text": [
      "Rows difference between fiction and real dataframes:  34\n",
      "Fiction data frame shape: (994, 5)\n",
      "Real data frame shape:  (960, 5)\n",
      "Fiction data frame shape after dropped rows: (960, 5)\n",
      "Real data frame shape:  (960, 5)\n"
     ]
    }
   ],
   "source": [
    "#Remove rows randomly from fiction dataframe to match\n",
    "rdiff=len(comp1_df)-len(comp2_df)\n",
    "print('Rows difference between fiction and real dataframes: ',rdiff)\n",
    "print('Fiction data frame shape:' ,comp1_df.shape)\n",
    "print('Real data frame shape: ' ,comp2_df.shape)\n",
    "while len(comp1_df) > len(comp2_df):\n",
    "    try:\n",
    "        comp1_df.drop(np.random.randint(low=0, high=len(comp1_df)-1),inplace=True) #remove random rows\n",
    "    except:\n",
    "        pass\n",
    "    \n",
    "\n",
    "print('Fiction data frame shape after dropped rows:' ,comp1_df.shape)\n",
    "print('Real data frame shape: ' ,comp2_df.shape)"
   ]
  },
  {
   "cell_type": "markdown",
   "metadata": {},
   "source": [
    "Since SuicideWatch row count is lower than Depressed, removed random posts from SuicideWatch to match the number of rows of Depressed."
   ]
  },
  {
   "cell_type": "code",
   "execution_count": 33,
   "metadata": {},
   "outputs": [],
   "source": [
    "#Convert all string values in 'title' and 'selftext' to lower case\n",
    "comp1_df['title']=comp1_df['title'].str.lower()\n",
    "comp1_df['selftext']=comp1_df['selftext'].str.lower()\n",
    "comp2_df['title']=comp2_df['title'].str.lower()\n",
    "comp2_df['selftext']=comp2_df['selftext'].str.lower()"
   ]
  },
  {
   "cell_type": "code",
   "execution_count": 34,
   "metadata": {},
   "outputs": [
    {
     "data": {
      "text/html": [
       "<div>\n",
       "<style scoped>\n",
       "    .dataframe tbody tr th:only-of-type {\n",
       "        vertical-align: middle;\n",
       "    }\n",
       "\n",
       "    .dataframe tbody tr th {\n",
       "        vertical-align: top;\n",
       "    }\n",
       "\n",
       "    .dataframe thead th {\n",
       "        text-align: right;\n",
       "    }\n",
       "</style>\n",
       "<table border=\"1\" class=\"dataframe\">\n",
       "  <thead>\n",
       "    <tr style=\"text-align: right;\">\n",
       "      <th></th>\n",
       "      <th>name</th>\n",
       "      <th>author</th>\n",
       "      <th>title</th>\n",
       "      <th>selftext</th>\n",
       "      <th>subreddit</th>\n",
       "    </tr>\n",
       "  </thead>\n",
       "  <tbody>\n",
       "    <tr>\n",
       "      <th>0</th>\n",
       "      <td>t3_dlvltz</td>\n",
       "      <td>Kostas235</td>\n",
       "      <td>why am i like this</td>\n",
       "      <td>my classmates don’t talk to me, they think i a...</td>\n",
       "      <td>depression</td>\n",
       "    </tr>\n",
       "    <tr>\n",
       "      <th>1</th>\n",
       "      <td>t3_dlvka1</td>\n",
       "      <td>Amxela</td>\n",
       "      <td>i’ve started writing down my depressed thought...</td>\n",
       "      <td>depression\\n\\n10/19-10/20 1:22am. \\ni’m sittin...</td>\n",
       "      <td>depression</td>\n",
       "    </tr>\n",
       "    <tr>\n",
       "      <th>2</th>\n",
       "      <td>t3_dlvjgc</td>\n",
       "      <td>cwatson1060</td>\n",
       "      <td>how do i know i was truly laughing?</td>\n",
       "      <td>i'm confused, i laugh in some classes in schoo...</td>\n",
       "      <td>depression</td>\n",
       "    </tr>\n",
       "    <tr>\n",
       "      <th>3</th>\n",
       "      <td>t3_dlvj4a</td>\n",
       "      <td>Gregorvitch</td>\n",
       "      <td>a rant about imposter syndrome.</td>\n",
       "      <td>imposter syndrome has hit me pretty hard latel...</td>\n",
       "      <td>depression</td>\n",
       "    </tr>\n",
       "    <tr>\n",
       "      <th>4</th>\n",
       "      <td>t3_dlvihy</td>\n",
       "      <td>Asmodeuss1990</td>\n",
       "      <td>its 3 am and i can't fucking sleep.</td>\n",
       "      <td>so all i can do is just listen to depressing m...</td>\n",
       "      <td>depression</td>\n",
       "    </tr>\n",
       "  </tbody>\n",
       "</table>\n",
       "</div>"
      ],
      "text/plain": [
       "        name         author  \\\n",
       "0  t3_dlvltz      Kostas235   \n",
       "1  t3_dlvka1         Amxela   \n",
       "2  t3_dlvjgc    cwatson1060   \n",
       "3  t3_dlvj4a    Gregorvitch   \n",
       "4  t3_dlvihy  Asmodeuss1990   \n",
       "\n",
       "                                               title  \\\n",
       "0                                 why am i like this   \n",
       "1  i’ve started writing down my depressed thought...   \n",
       "2                how do i know i was truly laughing?   \n",
       "3                    a rant about imposter syndrome.   \n",
       "4                its 3 am and i can't fucking sleep.   \n",
       "\n",
       "                                            selftext   subreddit  \n",
       "0  my classmates don’t talk to me, they think i a...  depression  \n",
       "1  depression\\n\\n10/19-10/20 1:22am. \\ni’m sittin...  depression  \n",
       "2  i'm confused, i laugh in some classes in schoo...  depression  \n",
       "3  imposter syndrome has hit me pretty hard latel...  depression  \n",
       "4  so all i can do is just listen to depressing m...  depression  "
      ]
     },
     "execution_count": 34,
     "metadata": {},
     "output_type": "execute_result"
    }
   ],
   "source": [
    "#check dataframe\n",
    "comp1_df.head()"
   ]
  },
  {
   "cell_type": "code",
   "execution_count": 35,
   "metadata": {},
   "outputs": [
    {
     "data": {
      "text/html": [
       "<div>\n",
       "<style scoped>\n",
       "    .dataframe tbody tr th:only-of-type {\n",
       "        vertical-align: middle;\n",
       "    }\n",
       "\n",
       "    .dataframe tbody tr th {\n",
       "        vertical-align: top;\n",
       "    }\n",
       "\n",
       "    .dataframe thead th {\n",
       "        text-align: right;\n",
       "    }\n",
       "</style>\n",
       "<table border=\"1\" class=\"dataframe\">\n",
       "  <thead>\n",
       "    <tr style=\"text-align: right;\">\n",
       "      <th></th>\n",
       "      <th>name</th>\n",
       "      <th>author</th>\n",
       "      <th>title</th>\n",
       "      <th>selftext</th>\n",
       "      <th>subreddit</th>\n",
       "    </tr>\n",
       "  </thead>\n",
       "  <tbody>\n",
       "    <tr>\n",
       "      <th>0</th>\n",
       "      <td>t3_dlvmb0</td>\n",
       "      <td>akskdqieirkff</td>\n",
       "      <td>want to die for no reason</td>\n",
       "      <td>i’ve always been suicidal, but i’m doing alrig...</td>\n",
       "      <td>SuicideWatch</td>\n",
       "    </tr>\n",
       "    <tr>\n",
       "      <th>1</th>\n",
       "      <td>t3_dlvihd</td>\n",
       "      <td>B055ANOVA</td>\n",
       "      <td>dogs are great</td>\n",
       "      <td>just tonight when i was fed up with everything...</td>\n",
       "      <td>SuicideWatch</td>\n",
       "    </tr>\n",
       "    <tr>\n",
       "      <th>2</th>\n",
       "      <td>t3_dlvh35</td>\n",
       "      <td>kirelred</td>\n",
       "      <td>i just need things to stop.</td>\n",
       "      <td>i struggle with my mask on a daily basis.   my...</td>\n",
       "      <td>SuicideWatch</td>\n",
       "    </tr>\n",
       "    <tr>\n",
       "      <th>3</th>\n",
       "      <td>t3_dlvfwe</td>\n",
       "      <td>Shamad00</td>\n",
       "      <td>it's just difficult</td>\n",
       "      <td>it's getting difficult to even do the things i...</td>\n",
       "      <td>SuicideWatch</td>\n",
       "    </tr>\n",
       "    <tr>\n",
       "      <th>4</th>\n",
       "      <td>t3_dlvatq</td>\n",
       "      <td>JMovilla</td>\n",
       "      <td>guidance</td>\n",
       "      <td>i wanna end it quick where no one will ever fi...</td>\n",
       "      <td>SuicideWatch</td>\n",
       "    </tr>\n",
       "  </tbody>\n",
       "</table>\n",
       "</div>"
      ],
      "text/plain": [
       "        name         author                        title  \\\n",
       "0  t3_dlvmb0  akskdqieirkff    want to die for no reason   \n",
       "1  t3_dlvihd      B055ANOVA               dogs are great   \n",
       "2  t3_dlvh35       kirelred  i just need things to stop.   \n",
       "3  t3_dlvfwe       Shamad00          it's just difficult   \n",
       "4  t3_dlvatq       JMovilla                     guidance   \n",
       "\n",
       "                                            selftext     subreddit  \n",
       "0  i’ve always been suicidal, but i’m doing alrig...  SuicideWatch  \n",
       "1  just tonight when i was fed up with everything...  SuicideWatch  \n",
       "2  i struggle with my mask on a daily basis.   my...  SuicideWatch  \n",
       "3  it's getting difficult to even do the things i...  SuicideWatch  \n",
       "4  i wanna end it quick where no one will ever fi...  SuicideWatch  "
      ]
     },
     "execution_count": 35,
     "metadata": {},
     "output_type": "execute_result"
    }
   ],
   "source": [
    "#check dataframe\n",
    "comp2_df.head()"
   ]
  },
  {
   "cell_type": "code",
   "execution_count": 36,
   "metadata": {},
   "outputs": [],
   "source": [
    "#Remove html tags and punctuation using regex\n",
    "comp1_df['title'] = comp1_df['title'].str.replace(\"[^a-zA-Z]\", \" \")"
   ]
  },
  {
   "cell_type": "code",
   "execution_count": 37,
   "metadata": {},
   "outputs": [],
   "source": [
    "#Remove html tags and punctuation using regex\n",
    "comp2_df['title'] = comp2_df['title'].str.replace(\"[^a-zA-Z]\", \" \")"
   ]
  },
  {
   "cell_type": "code",
   "execution_count": 38,
   "metadata": {},
   "outputs": [],
   "source": [
    "#Remove html tags and punctuation using regex\n",
    "comp1_df['selftext'] = comp1_df['selftext'].str.replace(\"[^a-zA-Z]\", \" \")"
   ]
  },
  {
   "cell_type": "code",
   "execution_count": 39,
   "metadata": {},
   "outputs": [],
   "source": [
    "#Remove html tags and punctuation using regex\n",
    "comp2_df['selftext'] = comp2_df['selftext'].str.replace(\"[^a-zA-Z]\", \" \")"
   ]
  },
  {
   "cell_type": "code",
   "execution_count": 40,
   "metadata": {},
   "outputs": [
    {
     "data": {
      "text/html": [
       "<div>\n",
       "<style scoped>\n",
       "    .dataframe tbody tr th:only-of-type {\n",
       "        vertical-align: middle;\n",
       "    }\n",
       "\n",
       "    .dataframe tbody tr th {\n",
       "        vertical-align: top;\n",
       "    }\n",
       "\n",
       "    .dataframe thead th {\n",
       "        text-align: right;\n",
       "    }\n",
       "</style>\n",
       "<table border=\"1\" class=\"dataframe\">\n",
       "  <thead>\n",
       "    <tr style=\"text-align: right;\">\n",
       "      <th></th>\n",
       "      <th>name</th>\n",
       "      <th>author</th>\n",
       "      <th>title</th>\n",
       "      <th>selftext</th>\n",
       "      <th>subreddit</th>\n",
       "    </tr>\n",
       "  </thead>\n",
       "  <tbody>\n",
       "    <tr>\n",
       "      <th>0</th>\n",
       "      <td>t3_dlvltz</td>\n",
       "      <td>Kostas235</td>\n",
       "      <td>why am i like this</td>\n",
       "      <td>my classmates don t talk to me  they think i a...</td>\n",
       "      <td>depression</td>\n",
       "    </tr>\n",
       "    <tr>\n",
       "      <th>1</th>\n",
       "      <td>t3_dlvka1</td>\n",
       "      <td>Amxela</td>\n",
       "      <td>i ve started writing down my depressed thought...</td>\n",
       "      <td>depression                  am   i m sitting h...</td>\n",
       "      <td>depression</td>\n",
       "    </tr>\n",
       "    <tr>\n",
       "      <th>2</th>\n",
       "      <td>t3_dlvjgc</td>\n",
       "      <td>cwatson1060</td>\n",
       "      <td>how do i know i was truly laughing</td>\n",
       "      <td>i m confused  i laugh in some classes in schoo...</td>\n",
       "      <td>depression</td>\n",
       "    </tr>\n",
       "    <tr>\n",
       "      <th>3</th>\n",
       "      <td>t3_dlvj4a</td>\n",
       "      <td>Gregorvitch</td>\n",
       "      <td>a rant about imposter syndrome</td>\n",
       "      <td>imposter syndrome has hit me pretty hard latel...</td>\n",
       "      <td>depression</td>\n",
       "    </tr>\n",
       "    <tr>\n",
       "      <th>4</th>\n",
       "      <td>t3_dlvihy</td>\n",
       "      <td>Asmodeuss1990</td>\n",
       "      <td>its   am and i can t fucking sleep</td>\n",
       "      <td>so all i can do is just listen to depressing m...</td>\n",
       "      <td>depression</td>\n",
       "    </tr>\n",
       "  </tbody>\n",
       "</table>\n",
       "</div>"
      ],
      "text/plain": [
       "        name         author  \\\n",
       "0  t3_dlvltz      Kostas235   \n",
       "1  t3_dlvka1         Amxela   \n",
       "2  t3_dlvjgc    cwatson1060   \n",
       "3  t3_dlvj4a    Gregorvitch   \n",
       "4  t3_dlvihy  Asmodeuss1990   \n",
       "\n",
       "                                               title  \\\n",
       "0                                 why am i like this   \n",
       "1  i ve started writing down my depressed thought...   \n",
       "2                how do i know i was truly laughing    \n",
       "3                    a rant about imposter syndrome    \n",
       "4                its   am and i can t fucking sleep    \n",
       "\n",
       "                                            selftext   subreddit  \n",
       "0  my classmates don t talk to me  they think i a...  depression  \n",
       "1  depression                  am   i m sitting h...  depression  \n",
       "2  i m confused  i laugh in some classes in schoo...  depression  \n",
       "3  imposter syndrome has hit me pretty hard latel...  depression  \n",
       "4  so all i can do is just listen to depressing m...  depression  "
      ]
     },
     "execution_count": 40,
     "metadata": {},
     "output_type": "execute_result"
    }
   ],
   "source": [
    "#check dataframe\n",
    "comp1_df.head()"
   ]
  },
  {
   "cell_type": "code",
   "execution_count": 41,
   "metadata": {},
   "outputs": [
    {
     "data": {
      "text/html": [
       "<div>\n",
       "<style scoped>\n",
       "    .dataframe tbody tr th:only-of-type {\n",
       "        vertical-align: middle;\n",
       "    }\n",
       "\n",
       "    .dataframe tbody tr th {\n",
       "        vertical-align: top;\n",
       "    }\n",
       "\n",
       "    .dataframe thead th {\n",
       "        text-align: right;\n",
       "    }\n",
       "</style>\n",
       "<table border=\"1\" class=\"dataframe\">\n",
       "  <thead>\n",
       "    <tr style=\"text-align: right;\">\n",
       "      <th></th>\n",
       "      <th>name</th>\n",
       "      <th>author</th>\n",
       "      <th>title</th>\n",
       "      <th>selftext</th>\n",
       "      <th>subreddit</th>\n",
       "    </tr>\n",
       "  </thead>\n",
       "  <tbody>\n",
       "    <tr>\n",
       "      <th>0</th>\n",
       "      <td>t3_dlvmb0</td>\n",
       "      <td>akskdqieirkff</td>\n",
       "      <td>want to die for no reason</td>\n",
       "      <td>i ve always been suicidal  but i m doing alrig...</td>\n",
       "      <td>SuicideWatch</td>\n",
       "    </tr>\n",
       "    <tr>\n",
       "      <th>1</th>\n",
       "      <td>t3_dlvihd</td>\n",
       "      <td>B055ANOVA</td>\n",
       "      <td>dogs are great</td>\n",
       "      <td>just tonight when i was fed up with everything...</td>\n",
       "      <td>SuicideWatch</td>\n",
       "    </tr>\n",
       "    <tr>\n",
       "      <th>2</th>\n",
       "      <td>t3_dlvh35</td>\n",
       "      <td>kirelred</td>\n",
       "      <td>i just need things to stop</td>\n",
       "      <td>i struggle with my mask on a daily basis    my...</td>\n",
       "      <td>SuicideWatch</td>\n",
       "    </tr>\n",
       "    <tr>\n",
       "      <th>3</th>\n",
       "      <td>t3_dlvfwe</td>\n",
       "      <td>Shamad00</td>\n",
       "      <td>it s just difficult</td>\n",
       "      <td>it s getting difficult to even do the things i...</td>\n",
       "      <td>SuicideWatch</td>\n",
       "    </tr>\n",
       "    <tr>\n",
       "      <th>4</th>\n",
       "      <td>t3_dlvatq</td>\n",
       "      <td>JMovilla</td>\n",
       "      <td>guidance</td>\n",
       "      <td>i wanna end it quick where no one will ever fi...</td>\n",
       "      <td>SuicideWatch</td>\n",
       "    </tr>\n",
       "  </tbody>\n",
       "</table>\n",
       "</div>"
      ],
      "text/plain": [
       "        name         author                        title  \\\n",
       "0  t3_dlvmb0  akskdqieirkff    want to die for no reason   \n",
       "1  t3_dlvihd      B055ANOVA               dogs are great   \n",
       "2  t3_dlvh35       kirelred  i just need things to stop    \n",
       "3  t3_dlvfwe       Shamad00          it s just difficult   \n",
       "4  t3_dlvatq       JMovilla                     guidance   \n",
       "\n",
       "                                            selftext     subreddit  \n",
       "0  i ve always been suicidal  but i m doing alrig...  SuicideWatch  \n",
       "1  just tonight when i was fed up with everything...  SuicideWatch  \n",
       "2  i struggle with my mask on a daily basis    my...  SuicideWatch  \n",
       "3  it s getting difficult to even do the things i...  SuicideWatch  \n",
       "4  i wanna end it quick where no one will ever fi...  SuicideWatch  "
      ]
     },
     "execution_count": 41,
     "metadata": {},
     "output_type": "execute_result"
    }
   ],
   "source": [
    "comp2_df.head()"
   ]
  },
  {
   "cell_type": "markdown",
   "metadata": {},
   "source": [
    "#### Backup individual cleaned posts to CSV files"
   ]
  },
  {
   "cell_type": "code",
   "execution_count": 42,
   "metadata": {},
   "outputs": [],
   "source": [
    "#cleaned dataframes to csv\n",
    "comp1_df.to_csv('depressed_clean.csv',index=False)\n",
    "comp2_df.to_csv('suicidewatch_clean.csv',index=False)"
   ]
  },
  {
   "cell_type": "markdown",
   "metadata": {},
   "source": [
    "#### Load saved cleaned data from csv and check for null values"
   ]
  },
  {
   "cell_type": "code",
   "execution_count": 43,
   "metadata": {},
   "outputs": [
    {
     "data": {
      "text/plain": [
       "name         0\n",
       "author       0\n",
       "title        0\n",
       "selftext     0\n",
       "subreddit    0\n",
       "dtype: int64"
      ]
     },
     "execution_count": 43,
     "metadata": {},
     "output_type": "execute_result"
    }
   ],
   "source": [
    "#load cleaned csv and check for null values\n",
    "dftemp=pd.read_csv('comp1_clean.csv')\n",
    "dftemp.isnull().sum()"
   ]
  },
  {
   "cell_type": "code",
   "execution_count": 44,
   "metadata": {},
   "outputs": [
    {
     "data": {
      "text/plain": [
       "name         0\n",
       "author       0\n",
       "title        0\n",
       "selftext     0\n",
       "subreddit    0\n",
       "dtype: int64"
      ]
     },
     "execution_count": 44,
     "metadata": {},
     "output_type": "execute_result"
    }
   ],
   "source": [
    "#load cleaned csv and check for null values\n",
    "dftemp=pd.read_csv('comp2_clean.csv')\n",
    "dftemp.isnull().sum()"
   ]
  },
  {
   "cell_type": "markdown",
   "metadata": {},
   "source": [
    "No null values found in any of the posts"
   ]
  },
  {
   "cell_type": "markdown",
   "metadata": {},
   "source": [
    "#### Concatinate cleaned data to final dataframe"
   ]
  },
  {
   "cell_type": "code",
   "execution_count": 45,
   "metadata": {},
   "outputs": [],
   "source": [
    "# Concat cleaned Depressed and SuicideWatch posts to final dataframe\n",
    "final_df=pd.concat([comp1_df,comp2_df])"
   ]
  },
  {
   "cell_type": "code",
   "execution_count": 46,
   "metadata": {},
   "outputs": [
    {
     "data": {
      "text/plain": [
       "(1920, 5)"
      ]
     },
     "execution_count": 46,
     "metadata": {},
     "output_type": "execute_result"
    }
   ],
   "source": [
    "#check shape\n",
    "final_df.shape"
   ]
  },
  {
   "cell_type": "code",
   "execution_count": 47,
   "metadata": {},
   "outputs": [
    {
     "data": {
      "text/plain": [
       "Index(['name', 'author', 'title', 'selftext', 'subreddit'], dtype='object')"
      ]
     },
     "execution_count": 47,
     "metadata": {},
     "output_type": "execute_result"
    }
   ],
   "source": [
    "#check columns\n",
    "final_df.columns"
   ]
  },
  {
   "cell_type": "code",
   "execution_count": 48,
   "metadata": {},
   "outputs": [],
   "source": [
    "#shuffle posts to randomise the order of the categories\n",
    "from sklearn.utils import shuffle\n",
    "final_df = shuffle(final_df)"
   ]
  },
  {
   "cell_type": "markdown",
   "metadata": {},
   "source": [
    "#### Map and replace Depression category to 0 and SuicideWatch to 1"
   ]
  },
  {
   "cell_type": "code",
   "execution_count": 49,
   "metadata": {},
   "outputs": [
    {
     "data": {
      "text/plain": [
       "1    960\n",
       "0    960\n",
       "Name: subreddit, dtype: int64"
      ]
     },
     "execution_count": 49,
     "metadata": {},
     "output_type": "execute_result"
    }
   ],
   "source": [
    "#convert categories 'SuicideWatch' =1 and 'depression'=0\n",
    "final_df['subreddit'] = final_df['subreddit'].map(dict(SuicideWatch=1, depression=0))\n",
    "final_df['subreddit'].value_counts()"
   ]
  },
  {
   "cell_type": "code",
   "execution_count": 52,
   "metadata": {},
   "outputs": [
    {
     "name": "stdout",
     "output_type": "stream",
     "text": [
      "<class 'pandas.core.frame.DataFrame'>\n",
      "Int64Index: 1920 entries, 935 to 932\n",
      "Data columns (total 5 columns):\n",
      "name         1920 non-null object\n",
      "author       1920 non-null object\n",
      "title        1920 non-null object\n",
      "selftext     1920 non-null object\n",
      "subreddit    1920 non-null int64\n",
      "dtypes: int64(1), object(4)\n",
      "memory usage: 90.0+ KB\n"
     ]
    }
   ],
   "source": [
    "#Check types\n",
    "final_df.info()"
   ]
  },
  {
   "cell_type": "code",
   "execution_count": 50,
   "metadata": {},
   "outputs": [
    {
     "data": {
      "text/html": [
       "<div>\n",
       "<style scoped>\n",
       "    .dataframe tbody tr th:only-of-type {\n",
       "        vertical-align: middle;\n",
       "    }\n",
       "\n",
       "    .dataframe tbody tr th {\n",
       "        vertical-align: top;\n",
       "    }\n",
       "\n",
       "    .dataframe thead th {\n",
       "        text-align: right;\n",
       "    }\n",
       "</style>\n",
       "<table border=\"1\" class=\"dataframe\">\n",
       "  <thead>\n",
       "    <tr style=\"text-align: right;\">\n",
       "      <th></th>\n",
       "      <th>name</th>\n",
       "      <th>author</th>\n",
       "      <th>title</th>\n",
       "      <th>selftext</th>\n",
       "      <th>subreddit</th>\n",
       "    </tr>\n",
       "  </thead>\n",
       "  <tbody>\n",
       "    <tr>\n",
       "      <th>935</th>\n",
       "      <td>t3_dl75tg</td>\n",
       "      <td>Yeledkafot</td>\n",
       "      <td>miserable with my life  losing my mind</td>\n",
       "      <td>my mom got diagnosed with bipolar disease and ...</td>\n",
       "      <td>0</td>\n",
       "    </tr>\n",
       "    <tr>\n",
       "      <th>324</th>\n",
       "      <td>t3_dlompu</td>\n",
       "      <td>lavender-slushie</td>\n",
       "      <td>fucccck you x     vent</td>\n",
       "      <td>every single fucking time i try to talk to my ...</td>\n",
       "      <td>0</td>\n",
       "    </tr>\n",
       "    <tr>\n",
       "      <th>843</th>\n",
       "      <td>t3_dkfrvy</td>\n",
       "      <td>TheREAL_VeraPeterson</td>\n",
       "      <td>i m so scared</td>\n",
       "      <td>i don t think i can keep going  i ll begging f...</td>\n",
       "      <td>1</td>\n",
       "    </tr>\n",
       "    <tr>\n",
       "      <th>103</th>\n",
       "      <td>t3_dlqv8z</td>\n",
       "      <td>nearlytherezopiclone</td>\n",
       "      <td>conversation away from organising and actionin...</td>\n",
       "      <td>year old male  major depressive since    y...</td>\n",
       "      <td>1</td>\n",
       "    </tr>\n",
       "    <tr>\n",
       "      <th>728</th>\n",
       "      <td>t3_dlbxd2</td>\n",
       "      <td>flyawaythrowaway1234</td>\n",
       "      <td>self harm tw</td>\n",
       "      <td>i have razor blades and i use them to slice my...</td>\n",
       "      <td>0</td>\n",
       "    </tr>\n",
       "  </tbody>\n",
       "</table>\n",
       "</div>"
      ],
      "text/plain": [
       "          name                author  \\\n",
       "935  t3_dl75tg            Yeledkafot   \n",
       "324  t3_dlompu      lavender-slushie   \n",
       "843  t3_dkfrvy  TheREAL_VeraPeterson   \n",
       "103  t3_dlqv8z  nearlytherezopiclone   \n",
       "728  t3_dlbxd2  flyawaythrowaway1234   \n",
       "\n",
       "                                                 title  \\\n",
       "935            miserable with my life  losing my mind    \n",
       "324                            fucccck you x     vent    \n",
       "843                                      i m so scared   \n",
       "103  conversation away from organising and actionin...   \n",
       "728                                       self harm tw   \n",
       "\n",
       "                                              selftext  subreddit  \n",
       "935  my mom got diagnosed with bipolar disease and ...          0  \n",
       "324  every single fucking time i try to talk to my ...          0  \n",
       "843  i don t think i can keep going  i ll begging f...          1  \n",
       "103      year old male  major depressive since    y...          1  \n",
       "728  i have razor blades and i use them to slice my...          0  "
      ]
     },
     "execution_count": 50,
     "metadata": {},
     "output_type": "execute_result"
    }
   ],
   "source": [
    "#Check dataframe\n",
    "final_df.head()"
   ]
  },
  {
   "cell_type": "markdown",
   "metadata": {},
   "source": [
    "#### Save final cleaned data to CSV file"
   ]
  },
  {
   "cell_type": "code",
   "execution_count": 51,
   "metadata": {},
   "outputs": [],
   "source": [
    "#final dataframes to csv\n",
    "#commented off to preserve the report in the next note book.\n",
    "#final_df.to_csv('final_table.csv',index=False)"
   ]
  },
  {
   "cell_type": "markdown",
   "metadata": {},
   "source": [
    "Rest of the projects will be continued on `2 Model Building - Reddit OverWatch` file"
   ]
  },
  {
   "cell_type": "code",
   "execution_count": null,
   "metadata": {},
   "outputs": [],
   "source": []
  }
 ],
 "metadata": {
  "kernelspec": {
   "display_name": "Python 3",
   "language": "python",
   "name": "python3"
  },
  "language_info": {
   "codemirror_mode": {
    "name": "ipython",
    "version": 3
   },
   "file_extension": ".py",
   "mimetype": "text/x-python",
   "name": "python",
   "nbconvert_exporter": "python",
   "pygments_lexer": "ipython3",
   "version": "3.7.3"
  }
 },
 "nbformat": 4,
 "nbformat_minor": 2
}
